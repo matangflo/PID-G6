{
 "cells": [
  {
   "cell_type": "code",
   "execution_count": 1,
   "id": "76d75ab7-acde-4030-9ca2-41ec056d1f95",
   "metadata": {},
   "outputs": [],
   "source": [
    "import os\n",
    "import cv2\n",
    "import mediapipe as mp\n",
    "import pandas as pd\n",
    "import numpy as np\n",
    "from sklearn.model_selection import train_test_split\n",
    "\n",
    "# Inicializar MediaPipe Pose\n",
    "mp_pose = mp.solutions.pose\n",
    "pose = mp_pose.Pose(static_image_mode=True, min_detection_confidence=0.5)\n"
   ]
  },
  {
   "cell_type": "code",
   "execution_count": 6,
   "id": "71434f31-4687-474b-9e00-6c0fb8d2feee",
   "metadata": {},
   "outputs": [
    {
     "name": "stdout",
     "output_type": "stream",
     "text": [
      "tadasana\n"
     ]
    }
   ],
   "source": [
    "import os\n",
    "import cv2\n",
    "import mediapipe as mp\n",
    "classified_pose = kNN(\"tadasana_prueba.png\",5)\n",
    "print(classified_pose)"
   ]
  },
  {
   "cell_type": "code",
   "execution_count": 2,
   "id": "20d1079e-4545-4bf5-baed-817ead0db88f",
   "metadata": {},
   "outputs": [],
   "source": [
    "from collections import Counter\n",
    "def kNN(pose_path, k, test_csvs = []):\n",
    "    image = cv2.imread(pose_path)\n",
    "    image_rgb = cv2.cvtColor(image, cv2.COLOR_BGR2RGB)\n",
    "    results = pose.process(image_rgb)\n",
    "    if not results.pose_landmarks:\n",
    "        return \"empty\"\n",
    "\n",
    "    landmarks = {lm_idx: (lm.x, lm.y, lm.z) for lm_idx, lm in enumerate(results.pose_landmarks.landmark)}\n",
    "\n",
    "    image_vectors = {}\n",
    "\n",
    "    landmark_names = mp_pose.PoseLandmark\n",
    "\n",
    "    for connection in mp_pose.POSE_CONNECTIONS:\n",
    "        start_idx, end_idx = connection\n",
    "\n",
    "        start_name = landmark_names(start_idx).name\n",
    "        end_name = landmark_names(end_idx).name\n",
    "\n",
    "        vector_name = f\"{start_name}_{end_name}\"\n",
    "\n",
    "        x1, y1, z1 = landmarks[start_idx]\n",
    "        x2, y2, z2 = landmarks[end_idx]\n",
    "\n",
    "        vec_x = x2 - x1\n",
    "        vec_y = y2 - y1\n",
    "        vec_z = z2 - z1\n",
    "\n",
    "        image_vectors[vector_name] = (vec_x, vec_y, vec_z)\n",
    "\n",
    "    distances = []\n",
    "    for pose_folder in os.listdir(\"dataset_vectors\"):\n",
    "        folder_path = os.path.join(\"dataset_vectors\", pose_folder)\n",
    "        for pose_csv in os.listdir(folder_path):\n",
    "            csv_path = os.path.join(folder_path, pose_csv)\n",
    "            \n",
    "            if csv_path in test_csvs:\n",
    "                continue\n",
    "                \n",
    "            csv = pd.read_csv(csv_path)\n",
    "            distance = 0\n",
    "            \n",
    "            for vector_name, image_vector in image_vectors.items():\n",
    "                subset = csv[csv[\"name\"] == vector_name]\n",
    "                if subset.empty:\n",
    "                    continue\n",
    "                for _, row in subset.iterrows():\n",
    "                    csv_vector = (row[\"x\"], row[\"y\"], row[\"z\"])\n",
    "                    distance += cosine_distance(csv_vector, image_vector)\n",
    "\n",
    "            distances.append((distance, pose_folder))\n",
    "\n",
    "    distances.sort(key=lambda x: x[0])\n",
    "    k_nearest = distances[:k]\n",
    "\n",
    "    classification_scores = Counter([folder for _, folder in k_nearest])\n",
    "    max_count = max(classification_scores.values())\n",
    "    \n",
    "    most_common_classes = [cls for cls, count in classification_scores.items() if count == max_count]\n",
    "\n",
    "    predicted_class = most_common_classes if len(most_common_classes) > 1 else most_common_classes[0]\n",
    "    return predicted_class\n",
    "    \n",
    "def cosine_distance(vec1, vec2):\n",
    "    v1 = np.array(vec1)\n",
    "    v2 = np.array(vec2)\n",
    "    cos_sim = np.dot(v1, v2) / (np.linalg.norm(v1) * np.linalg.norm(v2) + 1e-9)  \n",
    "    return 1 - abs(cos_sim)"
   ]
  },
  {
   "cell_type": "code",
   "execution_count": 5,
   "id": "cc6ad759-a52f-47e5-87db-a5b6a793fad4",
   "metadata": {},
   "outputs": [
    {
     "name": "stdout",
     "output_type": "stream",
     "text": [
      "['dataset\\\\adho mukha svanasana\\\\67. downward-facing-dog-adho-mukha-svanasana.png', 'dataset\\\\adho mukha svanasana\\\\1. 5-benefits-of-downward-facing-dog-pose.png', 'dataset\\\\adho mukha svanasana\\\\4. downward-facing-dog.png', 'dataset\\\\adho mukha svanasana\\\\33. screenshot_2015-02-10-12-04-46.png', 'dataset\\\\adho mukha svanasana\\\\10. screen-shot-2017-09-15-at-17.00.06-1024x585.png', 'dataset\\\\adho mukha svanasana\\\\92. down-dog.png', 'dataset\\\\adho mukha vriksasana\\\\40-0.png', 'dataset\\\\adho mukha vriksasana\\\\25-0.png', 'dataset\\\\adho mukha vriksasana\\\\17-0.png', 'dataset\\\\adho mukha vriksasana\\\\77-0.png', 'dataset\\\\adho mukha vriksasana\\\\46-1.png', 'dataset\\\\agnistambhasana\\\\38-0.png', 'dataset\\\\agnistambhasana\\\\12-0.png', 'dataset\\\\agnistambhasana\\\\26-0.png', 'dataset\\\\ananda balasana\\\\90-0.png', 'dataset\\\\ananda balasana\\\\25-0.png', 'dataset\\\\ananda balasana\\\\12-0.png', 'dataset\\\\ananda balasana\\\\87-0.png', 'dataset\\\\ananda balasana\\\\42-0.png', 'dataset\\\\anantasana\\\\28-1.png', 'dataset\\\\anantasana\\\\50-0.png', 'dataset\\\\anantasana\\\\2-0.png', 'dataset\\\\anantasana\\\\45-0.png', 'dataset\\\\anjaneyasana\\\\28-0.png', 'dataset\\\\anjaneyasana\\\\44-0.png', 'dataset\\\\anjaneyasana\\\\15-0.png', 'dataset\\\\anjaneyasana\\\\16-0.png', 'dataset\\\\anjaneyasana\\\\80-0.png', 'dataset\\\\anjaneyasana\\\\6-0.png', 'dataset\\\\ardha bhekasana\\\\28-0.png', 'dataset\\\\ardha bhekasana\\\\29-0.png', 'dataset\\\\ardha bhekasana\\\\8-0.png', 'dataset\\\\ardha bhekasana\\\\21-0.png', 'dataset\\\\ardha chandrasana\\\\75-0.png', 'dataset\\\\ardha chandrasana\\\\85-0.png', 'dataset\\\\ardha chandrasana\\\\17-0.png', 'dataset\\\\ardha chandrasana\\\\37-0.png', 'dataset\\\\ardha chandrasana\\\\64-0.png', 'dataset\\\\ardha matsyendrasana\\\\4-0.png', 'dataset\\\\ardha matsyendrasana\\\\0-0.png', 'dataset\\\\ardha matsyendrasana\\\\79-0.png', 'dataset\\\\ardha matsyendrasana\\\\22-0.png', 'dataset\\\\ardha matsyendrasana\\\\24-0.png', 'dataset\\\\ardha matsyendrasana\\\\1-0.png', 'dataset\\\\ardha matsyendrasana\\\\2-0.png', 'dataset\\\\ardha matsyendrasana\\\\98-0.png', 'dataset\\\\ardha matsyendrasana\\\\52-0.png', 'dataset\\\\ardha pincha mayurasana\\\\10-0.png', 'dataset\\\\ardha pincha mayurasana\\\\2-0.png', 'dataset\\\\ardha pincha mayurasana\\\\85-0.png', 'dataset\\\\ardha pincha mayurasana\\\\16-0.png', 'dataset\\\\ardha uttanasana\\\\23-0.png', 'dataset\\\\ardha uttanasana\\\\28-0.png', 'dataset\\\\ardha uttanasana\\\\19-0.png', 'dataset\\\\ardha uttanasana\\\\57-0.png', 'dataset\\\\ardha uttanasana\\\\43-1.png', 'dataset\\\\ardha uttanasana\\\\9-0.png', 'dataset\\\\ashtanga namaskara\\\\58-0.png', 'dataset\\\\ashtanga namaskara\\\\7-0.png', 'dataset\\\\ashtanga namaskara\\\\30-0.png', 'dataset\\\\astavakrasana\\\\50-0.png', 'dataset\\\\astavakrasana\\\\55-0.png', 'dataset\\\\astavakrasana\\\\3-0.png', 'dataset\\\\astavakrasana\\\\24-0.png', 'dataset\\\\astavakrasana\\\\82-0.png', 'dataset\\\\astavakrasana\\\\52-0.png', 'dataset\\\\astavakrasana\\\\6-0.png', 'dataset\\\\baddha konasana\\\\80. malasana-garland-pose-1.png', 'dataset\\\\baddha konasana\\\\7. header-9.png', 'dataset\\\\baddha konasana\\\\76. supta_baddha.png', 'dataset\\\\baddha konasana\\\\14. reclining-bound-angle-yoga-pose.png', 'dataset\\\\baddha konasana\\\\81. baddha-konasana-1024x1024.png', 'dataset\\\\baddha konasana\\\\2. screen-shot-2016-01-07-at-3.41.17-pm-e1499767193635.png', 'dataset\\\\baddha konasana\\\\84. file.png', 'dataset\\\\bakasana\\\\14-0.png', 'dataset\\\\bakasana\\\\36-0.png', 'dataset\\\\bakasana\\\\72-0.png', 'dataset\\\\bakasana\\\\50-0.png', 'dataset\\\\bakasana\\\\20-0.png', 'dataset\\\\bakasana\\\\68-0.png', 'dataset\\\\bakasana\\\\6-0.png', 'dataset\\\\balasana\\\\19. 20181201_114715_0001780273561.png', 'dataset\\\\balasana\\\\25. shishusana-or-the-child-pose copy.png', 'dataset\\\\balasana\\\\17. balasana.png', 'dataset\\\\balasana\\\\10. 22.10.2017-e1508409633499.png', 'dataset\\\\balasana\\\\21. happy-baby-pose-520x400.png', 'dataset\\\\balasana\\\\19. adho+muka+virasana.png', 'dataset\\\\balasana\\\\14. stretching-inner-thighs-balasana-baddha-konasana-side-splits-malasana-man-15965869.png', 'dataset\\\\bhairavasana\\\\10-0.png', 'dataset\\\\bhairavasana\\\\17-0.png', 'dataset\\\\bhairavasana\\\\87-0.png', 'dataset\\\\bhairavasana\\\\3-0.png', 'dataset\\\\bharadvajasana i\\\\29-0.png', 'dataset\\\\bharadvajasana i\\\\83-1.png', 'dataset\\\\bharadvajasana i\\\\11-0.png', 'dataset\\\\bharadvajasana i\\\\71-0.png', 'dataset\\\\bharadvajasana i\\\\3-0.png', 'dataset\\\\bhekasana\\\\22-0.png', 'dataset\\\\bhekasana\\\\96-0.png', 'dataset\\\\bhekasana\\\\35. 4ab39a67-f27b-4f6a-8cae-db2ff6dcf859.jpeg', 'dataset\\\\bhujangasana\\\\6-0.png', 'dataset\\\\bhujangasana\\\\78-0.png', 'dataset\\\\bhujangasana\\\\40-0.png', 'dataset\\\\bhujangasana\\\\29-1.png', 'dataset\\\\bhujangasana\\\\65-0.png', 'dataset\\\\bhujangasana\\\\80-0.png', 'dataset\\\\bhujangasana\\\\50-0.png', 'dataset\\\\bhujapidasana\\\\184-0.png', 'dataset\\\\bhujapidasana\\\\108-0.png', 'dataset\\\\bhujapidasana\\\\106-0.png', 'dataset\\\\bhujapidasana\\\\110-0.png', 'dataset\\\\bhujapidasana\\\\187-0.png', 'dataset\\\\bhujapidasana\\\\200-0.png', 'dataset\\\\bitilasana\\\\52-0.png', 'dataset\\\\bitilasana\\\\35-0.png', 'dataset\\\\bitilasana\\\\34-1.png', 'dataset\\\\bitilasana\\\\28-0.png', 'dataset\\\\bitilasana\\\\86-0.png', 'dataset\\\\bitilasana\\\\27-0.png', 'dataset\\\\bitilasana\\\\16-0.png', 'dataset\\\\bitilasana\\\\3-1.png', 'dataset\\\\camatkarasana\\\\77-0.png', 'dataset\\\\camatkarasana\\\\54-0.png', 'dataset\\\\camatkarasana\\\\6-0.png', 'dataset\\\\camatkarasana\\\\4-0.png', 'dataset\\\\camatkarasana\\\\70-1.png', 'dataset\\\\chakravakasana\\\\32-1.png', 'dataset\\\\chakravakasana\\\\41-0.png', 'dataset\\\\chakravakasana\\\\17-0.png', 'dataset\\\\chakravakasana\\\\29-0.png', 'dataset\\\\chakravakasana\\\\49-1.png', 'dataset\\\\chakravakasana\\\\7-0.png', 'dataset\\\\chakravakasana\\\\1-0.png', 'dataset\\\\chaturanga dandasana\\\\69-1.png', 'dataset\\\\chaturanga dandasana\\\\73-0.png', 'dataset\\\\chaturanga dandasana\\\\92-0.png', 'dataset\\\\chaturanga dandasana\\\\49. yl-asana-hatha-12-chaturanga-dandasana.jpeg', 'dataset\\\\chaturanga dandasana\\\\42-1.png', 'dataset\\\\chaturanga dandasana\\\\20-0.png', 'dataset\\\\chaturanga dandasana\\\\53-0.png', 'dataset\\\\chaturanga dandasana\\\\5-0.png', 'dataset\\\\chaturanga dandasana\\\\89-0.png', 'dataset\\\\dandasana\\\\48-0.png', 'dataset\\\\dandasana\\\\44-0.png', 'dataset\\\\dandasana\\\\93-1.png', 'dataset\\\\dandasana\\\\16. 2621-how-to-do-the-dandasana-and-what-are-its-benefits-ss.jpg', 'dataset\\\\dandasana\\\\6. yogapedia-dandasanasupported.jpg', 'dataset\\\\dandasana\\\\38-0.png', 'dataset\\\\dhanurasana\\\\49-0.png', 'dataset\\\\dhanurasana\\\\8-0.png', 'dataset\\\\dhanurasana\\\\4-0.png', 'dataset\\\\dhanurasana\\\\54-0.png', 'dataset\\\\durvasasana\\\\2-0.png', 'dataset\\\\durvasasana\\\\29-0.png', 'dataset\\\\durvasasana\\\\8-0.png', 'dataset\\\\dwi pada viparita dandasana\\\\36-0.png', 'dataset\\\\dwi pada viparita dandasana\\\\24-0.png', 'dataset\\\\dwi pada viparita dandasana\\\\1-0.png', 'dataset\\\\dwi pada viparita dandasana\\\\11-0.png', 'dataset\\\\dwi pada viparita dandasana\\\\64-0.png', 'dataset\\\\eka pada koundinyanasana i\\\\79-0.png', 'dataset\\\\eka pada koundinyanasana i\\\\71-0.png', 'dataset\\\\eka pada koundinyanasana i\\\\16-0.png', 'dataset\\\\eka pada koundinyanasana i\\\\8-0.png', 'dataset\\\\eka pada koundinyanasana i\\\\66-0.png', 'dataset\\\\eka pada koundinyanasana ii\\\\31-0.png', 'dataset\\\\eka pada koundinyanasana ii\\\\40-0.png', 'dataset\\\\eka pada koundinyanasana ii\\\\0-0.png', 'dataset\\\\eka pada koundinyanasana ii\\\\22-0.png', 'dataset\\\\eka pada koundinyanasana ii\\\\36-0.png', 'dataset\\\\eka pada rajakapotasana\\\\30-1.png', 'dataset\\\\eka pada rajakapotasana\\\\42-0.png', 'dataset\\\\eka pada rajakapotasana\\\\93-0.png', 'dataset\\\\eka pada rajakapotasana\\\\84-0.png', 'dataset\\\\eka pada rajakapotasana ii\\\\53-0.png', 'dataset\\\\eka pada rajakapotasana ii\\\\19-0.png', 'dataset\\\\eka pada rajakapotasana ii\\\\29-0.png', 'dataset\\\\eka pada rajakapotasana ii\\\\9-0.png', 'dataset\\\\eka pada rajakapotasana ii\\\\2-0.png', 'dataset\\\\ganda bherundasana\\\\18-0.png', 'dataset\\\\ganda bherundasana\\\\45-2.png', 'dataset\\\\ganda bherundasana\\\\51-0.png', 'dataset\\\\garbha pindasana\\\\42-0.png', 'dataset\\\\garbha pindasana\\\\11-0.png', 'dataset\\\\garbha pindasana\\\\98-1.png', 'dataset\\\\garudasana\\\\39-0.png', 'dataset\\\\garudasana\\\\90-0.png', 'dataset\\\\garudasana\\\\4-0.png', 'dataset\\\\garudasana\\\\22-0.png', 'dataset\\\\garudasana\\\\15-0.png', 'dataset\\\\garudasana\\\\60-0.png', 'dataset\\\\garudasana\\\\68-2.png', 'dataset\\\\gomukhasana\\\\1-0.png', 'dataset\\\\gomukhasana\\\\52-0.png', 'dataset\\\\gomukhasana\\\\34-0.png', 'dataset\\\\gomukhasana\\\\6-0.png', 'dataset\\\\gomukhasana\\\\16-6.png', 'dataset\\\\gomukhasana\\\\75-0.png', 'dataset\\\\gomukhasana\\\\20-2.png', 'dataset\\\\halasana\\\\6-0.png', 'dataset\\\\halasana\\\\23-0.png', 'dataset\\\\halasana\\\\48-0.png', 'dataset\\\\halasana\\\\55-2.png', 'dataset\\\\halasana\\\\3-0.png', 'dataset\\\\halasana\\\\8-0.png', 'dataset\\\\hanumanasana\\\\15-0.png', 'dataset\\\\hanumanasana\\\\5-3.png', 'dataset\\\\hanumanasana\\\\67-0.png', 'dataset\\\\janu sirsasana\\\\43-0.png', 'dataset\\\\janu sirsasana\\\\95-0.png', 'dataset\\\\janu sirsasana\\\\72-2.png', 'dataset\\\\janu sirsasana\\\\6-0.png', 'dataset\\\\kapotasana\\\\6-0.png', 'dataset\\\\kapotasana\\\\8-0.png', 'dataset\\\\kapotasana\\\\79-1.png', 'dataset\\\\kapotasana\\\\71-0.png', 'dataset\\\\kapotasana\\\\88-0.png', 'dataset\\\\krounchasana\\\\38-3.png', 'dataset\\\\krounchasana\\\\7-0.png', 'dataset\\\\krounchasana\\\\45-1.png', 'dataset\\\\krounchasana\\\\6-0.png', 'dataset\\\\kurmasana\\\\64-0.png', 'dataset\\\\kurmasana\\\\1-0.png', 'dataset\\\\kurmasana\\\\13-1.png', 'dataset\\\\kurmasana\\\\84-0.png', 'dataset\\\\lolasana\\\\25-0.png', 'dataset\\\\lolasana\\\\35-0.png', 'dataset\\\\lolasana\\\\50-0.png', 'dataset\\\\makara adho mukha svanasana\\\\41-0.png', 'dataset\\\\makara adho mukha svanasana\\\\14-0.png', 'dataset\\\\makara adho mukha svanasana\\\\19-0.png', 'dataset\\\\makara adho mukha svanasana\\\\12-0.png', 'dataset\\\\makarasana\\\\47-0.png', 'dataset\\\\makarasana\\\\2-0.png', 'dataset\\\\makarasana\\\\39-0.png', 'dataset\\\\makarasana\\\\5-0.png', 'dataset\\\\makarasana\\\\1-0.png', 'dataset\\\\malasana\\\\61-3.png', 'dataset\\\\malasana\\\\6-0.png', 'dataset\\\\malasana\\\\49-0.png', 'dataset\\\\malasana\\\\32-0.png', 'dataset\\\\malasana\\\\4-0.png', 'dataset\\\\malasana\\\\37-0.png', 'dataset\\\\marichyasana i\\\\41-0.png', 'dataset\\\\marichyasana i\\\\9-0.png', 'dataset\\\\marichyasana i\\\\17-0.png', 'dataset\\\\marichyasana i\\\\30-0.png', 'dataset\\\\marichyasana iii\\\\35-0.png', 'dataset\\\\marichyasana iii\\\\28-0.png', 'dataset\\\\marichyasana iii\\\\17-1.png', 'dataset\\\\marjaryasana\\\\83-1.png', 'dataset\\\\marjaryasana\\\\30-0.png', 'dataset\\\\marjaryasana\\\\15-1.png', 'dataset\\\\marjaryasana\\\\5-0.png', 'dataset\\\\matsyasana\\\\58-0.png', 'dataset\\\\matsyasana\\\\46-0.png', 'dataset\\\\matsyasana\\\\50-0.png', 'dataset\\\\matsyasana\\\\1-0.png', 'dataset\\\\matsyasana\\\\19-0.png', 'dataset\\\\mayurasana\\\\94-0.png', 'dataset\\\\mayurasana\\\\95-0.png', 'dataset\\\\mayurasana\\\\97-0.png', 'dataset\\\\mayurasana\\\\45-1.png', 'dataset\\\\mayurasana\\\\29-0.png', 'dataset\\\\natarajasana\\\\67-0.png', 'dataset\\\\natarajasana\\\\8-0.png', 'dataset\\\\natarajasana\\\\47-0.png', 'dataset\\\\natarajasana\\\\2-0.png', 'dataset\\\\natarajasana\\\\99-0.png', 'dataset\\\\natarajasana\\\\68-0.png', 'dataset\\\\natarajasana\\\\40-0.png', 'dataset\\\\padangusthasana\\\\38-0.png', 'dataset\\\\padmasana\\\\5. padamasana.png', 'dataset\\\\padmasana\\\\35. yoga-lotus-pose-2.png', 'dataset\\\\padmasana\\\\11. padma2basana.png', 'dataset\\\\padmasana\\\\4. padmasana.png', 'dataset\\\\padmasana\\\\6. b28625cc43c0a3d32ead44cb0e012e9b.png', 'dataset\\\\padmasana\\\\70. screenshot_20181020-141400.png', 'dataset\\\\parighasana\\\\20-0.png', 'dataset\\\\parighasana\\\\43-0.png', 'dataset\\\\parighasana\\\\26-0.png', 'dataset\\\\parighasana\\\\72-0.png', 'dataset\\\\paripurna navasana\\\\18-0.png', 'dataset\\\\paripurna navasana\\\\75-1.png', 'dataset\\\\paripurna navasana\\\\93-0.png', 'dataset\\\\paripurna navasana\\\\33-0.png', 'dataset\\\\paripurna navasana\\\\42-0.png', 'dataset\\\\paripurna navasana\\\\64-1.png', 'dataset\\\\parivrtta janu sirsasana\\\\20-0.png', 'dataset\\\\parivrtta janu sirsasana\\\\46-0.png', 'dataset\\\\parivrtta janu sirsasana\\\\51-0.png', 'dataset\\\\parivrtta parsvakonasana\\\\29-0.png', 'dataset\\\\parivrtta parsvakonasana\\\\67-0.png', 'dataset\\\\parivrtta parsvakonasana\\\\64-1.png', 'dataset\\\\parivrtta parsvakonasana\\\\30-0.png', 'dataset\\\\parivrtta trikonasana\\\\1-0.png', 'dataset\\\\parivrtta trikonasana\\\\39-0.png', 'dataset\\\\parivrtta trikonasana\\\\81-0.png', 'dataset\\\\parivrtta trikonasana\\\\55-1.png', 'dataset\\\\parivrtta trikonasana\\\\60-1.png', 'dataset\\\\parivrtta trikonasana\\\\45-0.png', 'dataset\\\\parsva bakasana\\\\19-0.png', 'dataset\\\\parsva bakasana\\\\79-0.png', 'dataset\\\\parsva bakasana\\\\5-0.png', 'dataset\\\\parsva bakasana\\\\56-0.png', 'dataset\\\\parsva bakasana\\\\0-1.png', 'dataset\\\\parsvottanasana\\\\29-0.png', 'dataset\\\\parsvottanasana\\\\30-0.png', 'dataset\\\\parsvottanasana\\\\43-2.png', 'dataset\\\\pasasana\\\\52-0.png', 'dataset\\\\pasasana\\\\31-0.png', 'dataset\\\\pasasana\\\\24-0.png', 'dataset\\\\pasasana\\\\40-2.png', 'dataset\\\\pasasana\\\\16-0.png', 'dataset\\\\paschimottanasana\\\\127-0.png', 'dataset\\\\paschimottanasana\\\\85-0.png', 'dataset\\\\paschimottanasana\\\\102-0.png', 'dataset\\\\paschimottanasana\\\\131-0.png', 'dataset\\\\paschimottanasana\\\\56-0.png', 'dataset\\\\phalakasana\\\\5-0.png', 'dataset\\\\phalakasana\\\\File66.jpg', 'dataset\\\\phalakasana\\\\43-0.png', 'dataset\\\\phalakasana\\\\42-0.png', 'dataset\\\\phalakasana\\\\File73.jpg', 'dataset\\\\pincha mayurasana\\\\56-0.png', 'dataset\\\\pincha mayurasana\\\\34-0.png', 'dataset\\\\pincha mayurasana\\\\50-2.png', 'dataset\\\\prasarita padottanasana\\\\71-0.png', 'dataset\\\\prasarita padottanasana\\\\40-0.png', 'dataset\\\\prasarita padottanasana\\\\36. prasarita-padottanasana.jpeg', 'dataset\\\\prasarita padottanasana\\\\52-0.png', 'dataset\\\\prasarita padottanasana\\\\6-0.png', 'dataset\\\\prasarita padottanasana\\\\87-0.png', 'dataset\\\\purvottanasana\\\\5-0.png', 'dataset\\\\purvottanasana\\\\63-0.png', 'dataset\\\\purvottanasana\\\\86-0.png', 'dataset\\\\purvottanasana\\\\48-0.png', 'dataset\\\\purvottanasana\\\\43-0.png', 'dataset\\\\purvottanasana\\\\70-0.png', 'dataset\\\\salabhasana\\\\82-0.png', 'dataset\\\\salabhasana\\\\70-0.png', 'dataset\\\\salabhasana\\\\6-0.png', 'dataset\\\\salabhasana\\\\56-1.png', 'dataset\\\\salabhasana\\\\16-0.png', 'dataset\\\\salamba bhujangasana\\\\49.jpeg', 'dataset\\\\salamba bhujangasana\\\\41-0.png', 'dataset\\\\salamba bhujangasana\\\\6-0.png', 'dataset\\\\salamba bhujangasana\\\\68-0.png', 'dataset\\\\salamba bhujangasana\\\\61-1.png', 'dataset\\\\salamba sarvangasana\\\\84-0.png', 'dataset\\\\salamba sarvangasana\\\\26-0.png', 'dataset\\\\salamba sarvangasana\\\\10-1.png', 'dataset\\\\salamba sarvangasana\\\\18-0.png', 'dataset\\\\salamba sarvangasana\\\\60-0.png', 'dataset\\\\salamba sarvangasana\\\\44-0.png', 'dataset\\\\salamba sirsasana\\\\46-0.png', 'dataset\\\\salamba sirsasana\\\\66-1.png', 'dataset\\\\salamba sirsasana\\\\55-0.png', 'dataset\\\\salamba sirsasana\\\\0-3.png', 'dataset\\\\salamba sirsasana\\\\41-0.png', 'dataset\\\\salamba sirsasana\\\\43-0.png', 'dataset\\\\savasana\\\\60-0.png', 'dataset\\\\savasana\\\\12-0.png', 'dataset\\\\savasana\\\\33-0.png', 'dataset\\\\savasana\\\\67-0.png', 'dataset\\\\savasana\\\\0-0.png', 'dataset\\\\setu bandha sarvangasana\\\\54-0.png', 'dataset\\\\setu bandha sarvangasana\\\\File45.jpg', 'dataset\\\\setu bandha sarvangasana\\\\39-0.png', 'dataset\\\\setu bandha sarvangasana\\\\45-0.png', 'dataset\\\\setu bandha sarvangasana\\\\42-0.png', 'dataset\\\\simhasana\\\\36-0.png', 'dataset\\\\simhasana\\\\19-0.png', 'dataset\\\\simhasana\\\\51-0.png', 'dataset\\\\simhasana\\\\4-0.png', 'dataset\\\\sukhasana\\\\95-0.png', 'dataset\\\\sukhasana\\\\24-0.png', 'dataset\\\\sukhasana\\\\94-0.png', 'dataset\\\\sukhasana\\\\19-0.png', 'dataset\\\\sukhasana\\\\29-0.png', 'dataset\\\\supta baddha konasana\\\\19-0.png', 'dataset\\\\supta baddha konasana\\\\45-0.png', 'dataset\\\\supta baddha konasana\\\\28-0.png', 'dataset\\\\supta baddha konasana\\\\29-0.png', 'dataset\\\\supta baddha konasana\\\\6-0.png', 'dataset\\\\supta baddha konasana\\\\54-0.png', 'dataset\\\\supta baddha konasana\\\\21-0.png', 'dataset\\\\supta matsyendrasana\\\\7-0.png', 'dataset\\\\supta matsyendrasana\\\\18-1.png', 'dataset\\\\supta matsyendrasana\\\\31-0.png', 'dataset\\\\supta matsyendrasana\\\\24-0.png', 'dataset\\\\supta matsyendrasana\\\\26-0.png', 'dataset\\\\supta padangusthasana\\\\53-0.png', 'dataset\\\\supta padangusthasana\\\\69-0.png', 'dataset\\\\supta padangusthasana\\\\74-0.png', 'dataset\\\\supta padangusthasana\\\\89-0.png', 'dataset\\\\supta padangusthasana\\\\10-0.png', 'dataset\\\\supta padangusthasana\\\\13-0.png', 'dataset\\\\supta virasana\\\\93-2.png', 'dataset\\\\supta virasana\\\\82-0.png', 'dataset\\\\supta virasana\\\\54-0.png', 'dataset\\\\supta virasana\\\\75-1.png', 'dataset\\\\supta virasana\\\\29-0.png', 'dataset\\\\supta virasana\\\\79-0.png', 'dataset\\\\tadasana\\\\18. 431109_preview.png', 'dataset\\\\tadasana\\\\84. screen-shot-2015-06-30-at-9.56.28-am.png', 'dataset\\\\tadasana\\\\89. tadasana-1.png', 'dataset\\\\tadasana\\\\68. cropped-dreamstime_s_77659811 copy.jpg', 'dataset\\\\tadasana\\\\84. screen-shot-2018-02-21-at-10.31.38-am.png', 'dataset\\\\tittibhasana\\\\8-0.png', 'dataset\\\\tittibhasana\\\\17-0.png', 'dataset\\\\tittibhasana\\\\19-0.png', 'dataset\\\\tittibhasana\\\\39-0.png', 'dataset\\\\tittibhasana\\\\13-0.png', 'dataset\\\\tolasana\\\\41-0.png', 'dataset\\\\tolasana\\\\32-0.png', 'dataset\\\\tolasana\\\\52-0.png', 'dataset\\\\tolasana\\\\88-0.png', 'dataset\\\\tolasana\\\\16-3.png', 'dataset\\\\tolasana\\\\49-0.png', 'dataset\\\\tulasana\\\\25-0.png', 'dataset\\\\tulasana\\\\32-0.png', 'dataset\\\\tulasana\\\\39-0.png', 'dataset\\\\upavistha konasana\\\\49-0.png', 'dataset\\\\upavistha konasana\\\\19-0.png', 'dataset\\\\upavistha konasana\\\\61-1.png', 'dataset\\\\upavistha konasana\\\\67-0.png', 'dataset\\\\upavistha konasana\\\\48-0.png', 'dataset\\\\upavistha konasana\\\\66-0.png', 'dataset\\\\urdhva dhanurasana\\\\12-0.png', 'dataset\\\\urdhva dhanurasana\\\\97-0.png', 'dataset\\\\urdhva dhanurasana\\\\34-0.png', 'dataset\\\\urdhva dhanurasana\\\\26-0.png', 'dataset\\\\urdhva dhanurasana\\\\29-1.png', 'dataset\\\\urdhva dhanurasana\\\\7-1.png', 'dataset\\\\urdhva hastasana\\\\7-0.png', 'dataset\\\\urdhva hastasana\\\\29-0.png', 'dataset\\\\urdhva hastasana\\\\33-0.png', 'dataset\\\\urdhva hastasana\\\\9-0.png', 'dataset\\\\urdhva mukha svanasana\\\\2-0.png', 'dataset\\\\urdhva mukha svanasana\\\\40-0.png', 'dataset\\\\urdhva mukha svanasana\\\\44-0.png', 'dataset\\\\urdhva mukha svanasana\\\\27-0.png', 'dataset\\\\urdhva mukha svanasana\\\\77-1.png', 'dataset\\\\urdhva mukha svanasana\\\\15-0.png', 'dataset\\\\urdhva prasarita eka padasana\\\\35-0.png', 'dataset\\\\urdhva prasarita eka padasana\\\\40-1.png', 'dataset\\\\urdhva prasarita eka padasana\\\\79-0.png', 'dataset\\\\urdhva prasarita eka padasana\\\\5-0.png', 'dataset\\\\urdhva prasarita eka padasana\\\\47-0.png', 'dataset\\\\ustrasana\\\\45-0.png', 'dataset\\\\ustrasana\\\\75-0.png', 'dataset\\\\ustrasana\\\\12-0.png', 'dataset\\\\ustrasana\\\\20-0.png', 'dataset\\\\ustrasana\\\\48-0.png', 'dataset\\\\ustrasana\\\\28-0.png', 'dataset\\\\ustrasana\\\\62-0.png', 'dataset\\\\ustrasana\\\\61-0.png', 'dataset\\\\utkatasana\\\\4. 4-asana-27-utkatasana-anu-1.png', 'dataset\\\\utkatasana\\\\30. sara-in-chair-pose-responding-to-the-instruction-to-puff-the-kidneys-and-open-the.png', 'dataset\\\\utkatasana\\\\5. utkatasana-chair-pose.png', 'dataset\\\\utkatasana\\\\3. utkatasana-chair-pose.png', 'dataset\\\\utkatasana\\\\42. chair-pose.png', 'dataset\\\\utkatasana\\\\16. chair-pose-600x450.png', 'dataset\\\\utkatasana\\\\48. 7849067.png', 'dataset\\\\uttana shishosana\\\\33-0.png', 'dataset\\\\uttana shishosana\\\\64-0.png', 'dataset\\\\uttana shishosana\\\\85-1.png', 'dataset\\\\uttana shishosana\\\\94-0.png', 'dataset\\\\uttana shishosana\\\\96-1.png', 'dataset\\\\uttanasana\\\\84-1.png', 'dataset\\\\uttanasana\\\\37-0.png', 'dataset\\\\uttanasana\\\\43-0.png', 'dataset\\\\uttanasana\\\\391.jpeg', 'dataset\\\\uttanasana\\\\86-0.png', 'dataset\\\\uttanasana\\\\46-0.png', 'dataset\\\\utthita ashwa sanchalanasana\\\\80-0.png', 'dataset\\\\utthita ashwa sanchalanasana\\\\0-0.png', 'dataset\\\\utthita ashwa sanchalanasana\\\\5-0.png', 'dataset\\\\utthita hasta padangustasana\\\\65-0.png', 'dataset\\\\utthita hasta padangustasana\\\\21-0.png', 'dataset\\\\utthita hasta padangustasana\\\\72-0.png', 'dataset\\\\utthita hasta padangustasana\\\\93-0.png', 'dataset\\\\utthita hasta padangustasana\\\\25-0.png', 'dataset\\\\utthita parsvakonasana\\\\77-0.png', 'dataset\\\\utthita parsvakonasana\\\\33-1.png', 'dataset\\\\utthita parsvakonasana\\\\89-0.png', 'dataset\\\\utthita parsvakonasana\\\\16-0.png', 'dataset\\\\utthita parsvakonasana\\\\95-0.png', 'dataset\\\\utthita parsvakonasana\\\\48-0.png', 'dataset\\\\utthita trikonasana\\\\67-0.png', 'dataset\\\\utthita trikonasana\\\\42-0.png', 'dataset\\\\utthita trikonasana\\\\4-0.png', 'dataset\\\\utthita trikonasana\\\\19-0.png', 'dataset\\\\utthita trikonasana\\\\93-0.png', 'dataset\\\\utthita trikonasana\\\\71-0.png', 'dataset\\\\vajrasana\\\\4-0.png', 'dataset\\\\vajrasana\\\\89-0.png', 'dataset\\\\vajrasana\\\\15-0.png', 'dataset\\\\vajrasana\\\\32-0.png', 'dataset\\\\vajrasana\\\\12-0.png', 'dataset\\\\vasisthasana\\\\61-0.png', 'dataset\\\\vasisthasana\\\\28-0.png', 'dataset\\\\vasisthasana\\\\95-0.png', 'dataset\\\\vasisthasana\\\\4-1.png', 'dataset\\\\vasisthasana\\\\30-0.png', 'dataset\\\\vasisthasana\\\\90-0.png', 'dataset\\\\vasisthasana\\\\47-0.png', 'dataset\\\\viparita karani\\\\2-2.png', 'dataset\\\\viparita karani\\\\24-1.png', 'dataset\\\\viparita karani\\\\14-0.png', 'dataset\\\\viparita karani\\\\52-0.png', 'dataset\\\\viparita karani\\\\12-0.png', 'dataset\\\\viparita karani\\\\62-0.png', 'dataset\\\\virabhadrasana i\\\\24-0.png', 'dataset\\\\virabhadrasana i\\\\44-0.png', 'dataset\\\\virabhadrasana i\\\\16-0.png', 'dataset\\\\virabhadrasana i\\\\File10.png', 'dataset\\\\virabhadrasana i\\\\10-0.png', 'dataset\\\\virabhadrasana ii\\\\11-0.png', 'dataset\\\\virabhadrasana ii\\\\40-0.png', 'dataset\\\\virabhadrasana ii\\\\22-0.png', 'dataset\\\\virabhadrasana ii\\\\3-0.png', 'dataset\\\\virabhadrasana ii\\\\41-0.png', 'dataset\\\\virabhadrasana iii\\\\62-1.png', 'dataset\\\\virabhadrasana iii\\\\42-0.png', 'dataset\\\\virabhadrasana iii\\\\84-0.png', 'dataset\\\\virabhadrasana iii\\\\32-0.png', 'dataset\\\\virabhadrasana iii\\\\36-0.png', 'dataset\\\\virabhadrasana iii\\\\16-0.png', 'dataset\\\\virasana\\\\32-0.png', 'dataset\\\\virasana\\\\27-0.png', 'dataset\\\\virasana\\\\47-0.png', 'dataset\\\\virasana\\\\84-0.png', 'dataset\\\\virasana\\\\75-0.png', 'dataset\\\\vriksasana\\\\32-0.png', 'dataset\\\\vriksasana\\\\21-0.png', 'dataset\\\\vriksasana\\\\38-0.png', 'dataset\\\\vriksasana\\\\37-0.png', 'dataset\\\\vriksasana\\\\30-0.png', 'dataset\\\\vriksasana\\\\23-0.png', 'dataset\\\\vrischikasana\\\\5-0.png', 'dataset\\\\vrischikasana\\\\69-0.png', 'dataset\\\\vrischikasana\\\\59-0.png', 'dataset\\\\vrischikasana\\\\7-0.png', 'dataset\\\\vrischikasana\\\\14-0.png', 'dataset\\\\yoganidrasana\\\\35-0.png', 'dataset\\\\yoganidrasana\\\\18-0.png', 'dataset\\\\yoganidrasana\\\\34-0.png', 'dataset\\\\yoganidrasana\\\\17-0.png']\n"
     ]
    }
   ],
   "source": [
    "import random\n",
    "test_percentage = 0.1\n",
    "test_paths = []\n",
    "\n",
    "for pose_folder in os.listdir(\"dataset\"):\n",
    "    images = []\n",
    "    folder_path = os.path.join(\"dataset\", pose_folder)\n",
    "    for pose_csv in os.listdir(folder_path):\n",
    "        csv_path = os.path.join(folder_path, pose_csv)\n",
    "        images.append(csv_path)\n",
    "        \n",
    "    test_size = int(len(images) * test_percentage)\n",
    "    test_sample = random.sample(images, test_size)\n",
    "    test_paths.extend(test_sample)\n",
    "    \n",
    "print(test_paths)"
   ]
  },
  {
   "cell_type": "code",
   "execution_count": 6,
   "id": "6bde4003-68ae-4811-9c21-ea598ed4cf9c",
   "metadata": {},
   "outputs": [
    {
     "name": "stdout",
     "output_type": "stream",
     "text": [
      "True predicted:\n",
      "381\n",
      "False predicted:\n",
      "169\n"
     ]
    }
   ],
   "source": [
    "# Inicializar k (cantidad de vecinos)\n",
    "k = 5\n",
    "true_predicted=[]\n",
    "false_predicted=[]\n",
    "test_csvs = [image.replace(\".png\", \".csv\").replace(\".jpg\", \".csv\") for image in test_paths]\n",
    "for image_path in test_paths:\n",
    "    predicted_class=kNN(image_path,k,test_csvs)\n",
    "    real_class = os.path.basename(os.path.dirname(image_path))\n",
    "    if predicted_class == real_class:\n",
    "        true_predicted.append(image_path)\n",
    "    else:\n",
    "        false_predicted.append(image_path)\n",
    "\n",
    "print('True predicted:')\n",
    "print(len(true_predicted))\n",
    "print('False predicted:')\n",
    "print(len(false_predicted))\n",
    "#5%-> 162t 82f\n",
    "#10% - 381t 169f\n"
   ]
  },
  {
   "cell_type": "markdown",
   "id": "3ee05956-0ceb-4eed-aef6-66bf20d84adb",
   "metadata": {},
   "source": []
  }
 ],
 "metadata": {
  "kernelspec": {
   "display_name": "Python 3 (ipykernel)",
   "language": "python",
   "name": "python3"
  },
  "language_info": {
   "codemirror_mode": {
    "name": "ipython",
    "version": 3
   },
   "file_extension": ".py",
   "mimetype": "text/x-python",
   "name": "python",
   "nbconvert_exporter": "python",
   "pygments_lexer": "ipython3",
   "version": "3.12.7"
  }
 },
 "nbformat": 4,
 "nbformat_minor": 5
}
