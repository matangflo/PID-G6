{
 "cells": [
  {
   "cell_type": "code",
   "execution_count": 4,
   "id": "76d75ab7-acde-4030-9ca2-41ec056d1f95",
   "metadata": {},
   "outputs": [
    {
     "name": "stdout",
     "output_type": "stream",
     "text": [
      "CSV por imagen generados correctamente.\n"
     ]
    }
   ],
   "source": [
    "import os\n",
    "import cv2\n",
    "import mediapipe as mp\n",
    "import pandas as pd\n",
    "\n",
    "# Inicializar MediaPipe Pose\n",
    "mp_pose = mp.solutions.pose\n",
    "pose = mp_pose.Pose(static_image_mode=True, min_detection_confidence=0.5)\n",
    "\n",
    "dataset_folder = \"dataset\"\n",
    "\n",
    "output_folder = \"dataset_vectors\"\n",
    "os.makedirs(output_folder, exist_ok=True)\n",
    "\n",
    "landmark_names = mp_pose.PoseLandmark\n",
    "\n",
    "for pose_folder in os.listdir(dataset_folder):\n",
    "    pose_path = os.path.join(dataset_folder, pose_folder)\n",
    "\n",
    "    if os.path.isdir(pose_path):\n",
    "        output_subfolder = os.path.join(output_folder, pose_folder)\n",
    "        os.makedirs(output_subfolder, exist_ok=True)\n",
    "\n",
    "        images = [os.path.join(pose_path, img) for img in os.listdir(pose_path) if img.endswith(('.jpg', '.png'))]\n",
    "\n",
    "        for img_path in images:\n",
    "            image = cv2.imread(img_path)\n",
    "            image_rgb = cv2.cvtColor(image, cv2.COLOR_BGR2RGB)\n",
    "            results = pose.process(image_rgb)\n",
    "\n",
    "            if not results.pose_landmarks:\n",
    "                continue  # Si no hay landmarks, saltar la imagen\n",
    "\n",
    "            landmarks = {lm_idx: (lm.x, lm.y, lm.z) for lm_idx, lm in enumerate(results.pose_landmarks.landmark)}\n",
    "\n",
    "            image_data = []\n",
    "\n",
    "            for connection in mp_pose.POSE_CONNECTIONS:\n",
    "                start_idx, end_idx = connection\n",
    "\n",
    "                if start_idx not in landmarks or end_idx not in landmarks:\n",
    "                    continue\n",
    "\n",
    "                x1, y1, z1 = landmarks[start_idx]\n",
    "                x2, y2, z2 = landmarks[end_idx]\n",
    "\n",
    "                vec_x = x2 - x1\n",
    "                vec_y = y2 - y1\n",
    "                vec_z = z2 - z1\n",
    "\n",
    "                start_name = landmark_names(start_idx).name\n",
    "                end_name = landmark_names(end_idx).name\n",
    "                vector_name = f\"{start_name}_{end_name}\"\n",
    "\n",
    "                image_data.append([vector_name, vec_x, vec_y, vec_z])\n",
    "\n",
    "            # Crear el DataFrame\n",
    "            df = pd.DataFrame(image_data, columns=[\"name\", \"x\", \"y\", \"z\"])\n",
    "\n",
    "            # Guardar CSV con el mismo nombre que la imagen\n",
    "            img_name = os.path.splitext(os.path.basename(img_path))[0]\n",
    "            output_csv_path = os.path.join(output_subfolder, f\"{img_name}.csv\")\n",
    "            df.to_csv(output_csv_path, index=False)\n",
    "\n",
    "# Cerrar MediaPipe Pose\n",
    "pose.close()\n",
    "\n",
    "print(\"CSV por imagen generados correctamente.\")\n"
   ]
  },
  {
   "cell_type": "code",
   "execution_count": null,
   "id": "00db868f-d3c5-40c3-9561-219184745c54",
   "metadata": {},
   "outputs": [],
   "source": []
  }
 ],
 "metadata": {
  "kernelspec": {
   "display_name": "Python 3 (ipykernel)",
   "language": "python",
   "name": "python3"
  },
  "language_info": {
   "codemirror_mode": {
    "name": "ipython",
    "version": 3
   },
   "file_extension": ".py",
   "mimetype": "text/x-python",
   "name": "python",
   "nbconvert_exporter": "python",
   "pygments_lexer": "ipython3",
   "version": "3.12.7"
  }
 },
 "nbformat": 4,
 "nbformat_minor": 5
}
