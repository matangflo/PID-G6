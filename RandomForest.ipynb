{
 "cells": [
  {
   "cell_type": "code",
   "execution_count": 3,
   "id": "b20a6d3a",
   "metadata": {},
   "outputs": [
    {
     "name": "stdout",
     "output_type": "stream",
     "text": [
      "✅ Precisión del modelo: 66.82%\n",
      "💾 Modelo guardado como modelo_random_forest.pkl\n"
     ]
    }
   ],
   "source": [
    "import pandas as pd\n",
    "from sklearn.ensemble import RandomForestClassifier\n",
    "from sklearn.model_selection import train_test_split\n",
    "from sklearn.metrics import accuracy_score\n",
    "import joblib\n",
    "\n",
    "df = pd.read_csv(\"landmarks_dataset.csv\")\n",
    "\n",
    "# Separar datos y etiquetas\n",
    "X = df.drop(columns=[\"label\"])\n",
    "y = df[\"label\"]\n",
    "\n",
    "# Dividir en entrenamiento y prueba\n",
    "X_train, X_test, y_train, y_test = train_test_split(X, y, test_size=0.2, random_state=42)\n",
    "\n",
    "# Crear y entrenar modelo Random Forest\n",
    "#rf = RandomForestClassifier(n_estimators=100, random_state=42)\n",
    "rf = RandomForestClassifier(\n",
    "    n_estimators=300,  # Más árboles\n",
    "    max_depth=20,  # Limitar profundidad\n",
    "    max_features='sqrt',  # Reducir número de características evaluadas por nodo\n",
    "    random_state=42\n",
    ")\n",
    "\n",
    "rf.fit(X_train, y_train)\n",
    "\n",
    "# Evaluar modelo\n",
    "y_pred = rf.predict(X_test)\n",
    "accuracy = accuracy_score(y_test, y_pred)\n",
    "\n",
    "print(f\"✅ Precisión del modelo: {accuracy:.2%}\")\n",
    "\n",
    "joblib.dump(rf, \"modelo_random_forest.pkl\")\n",
    "print(\"💾 Modelo guardado como modelo_random_forest.pkl\")"
   ]
  },
  {
   "cell_type": "code",
   "execution_count": 4,
   "id": "748ebd3d",
   "metadata": {},
   "outputs": [
    {
     "name": "stdout",
     "output_type": "stream",
     "text": [
      "📸 Pose predicha: ardha chandrasana\n"
     ]
    },
    {
     "name": "stderr",
     "output_type": "stream",
     "text": [
      "C:\\Users\\USUARIO\\miniconda3\\lib\\site-packages\\sklearn\\utils\\validation.py:2739: UserWarning: X does not have valid feature names, but RandomForestClassifier was fitted with feature names\n",
      "  warnings.warn(\n"
     ]
    }
   ],
   "source": [
    "import cv2\n",
    "import mediapipe as mp\n",
    "import numpy as np\n",
    "import joblib\n",
    "import os\n",
    "\n",
    "# Cargar modelo Random Forest\n",
    "model = joblib.load(\"modelo_random_forest.pkl\")\n",
    "\n",
    "#Obtener los nombres de las poses (las carpetas del dataset)\n",
    "dataset_folder = \"dataset\"\n",
    "pose_names = os.listdir(dataset_folder)\n",
    "\n",
    "#Inicializar MediaPipe\n",
    "mp_pose = mp.solutions.pose\n",
    "pose = mp_pose.Pose(static_image_mode=True, min_detection_confidence=0.5)\n",
    "\n",
    "# Cargar imagen a predecir\n",
    "img_path = \"fotos/fotoDetectar.jpg\"\n",
    "image = cv2.imread(img_path)\n",
    "image_rgb = cv2.cvtColor(image, cv2.COLOR_BGR2RGB)\n",
    "\n",
    "# Procesar imagen y extraer landmarks\n",
    "results = pose.process(image_rgb)\n",
    "\n",
    "if results.pose_landmarks:\n",
    "    landmarks = []\n",
    "    for lm in results.pose_landmarks.landmark:\n",
    "        landmarks.extend([lm.x, lm.y, lm.z])\n",
    "\n",
    "    #Predecir clase\n",
    "    prediction = model.predict([landmarks])[0]  # modelo espera array de arrays\n",
    "\n",
    "    print(f\"📸 Pose predicha: {prediction}\")\n",
    "else:\n",
    "    print(\"⚠️ No se detectaron landmarks en la imagen.\")\n",
    "\n",
    "pose.close()"
   ]
  },
  {
   "cell_type": "code",
   "execution_count": null,
   "id": "06a75e5d",
   "metadata": {},
   "outputs": [],
   "source": []
  }
 ],
 "metadata": {
  "kernelspec": {
   "display_name": "Python 3 (ipykernel)",
   "language": "python",
   "name": "python3"
  },
  "language_info": {
   "codemirror_mode": {
    "name": "ipython",
    "version": 3
   },
   "file_extension": ".py",
   "mimetype": "text/x-python",
   "name": "python",
   "nbconvert_exporter": "python",
   "pygments_lexer": "ipython3",
   "version": "3.9.21"
  }
 },
 "nbformat": 4,
 "nbformat_minor": 5
}
